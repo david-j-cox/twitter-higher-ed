{
  "nbformat": 4,
  "nbformat_minor": 0,
  "metadata": {
    "accelerator": "GPU",
    "colab": {
      "name": "dabl_analyses_emoji_corrs.ipynb",
      "provenance": [],
      "collapsed_sections": [
        "63g_OloDj7ub"
      ],
      "machine_shape": "hm",
      "include_colab_link": true
    },
    "kernelspec": {
      "display_name": "Python 3",
      "name": "python3"
    },
    "language_info": {
      "name": "python"
    },
    "widgets": {
      "application/vnd.jupyter.widget-state+json": {
        "80f2f70b388d4d66a1385cb0e0bb84c5": {
          "model_module": "@jupyter-widgets/controls",
          "model_name": "HBoxModel",
          "model_module_version": "1.5.0",
          "state": {
            "_dom_classes": [],
            "_model_module": "@jupyter-widgets/controls",
            "_model_module_version": "1.5.0",
            "_model_name": "HBoxModel",
            "_view_count": null,
            "_view_module": "@jupyter-widgets/controls",
            "_view_module_version": "1.5.0",
            "_view_name": "HBoxView",
            "box_style": "",
            "children": [
              "IPY_MODEL_aa86d8bb5831492eb214f2e2bc0ece9a",
              "IPY_MODEL_c28be0f3c51e4036b6070208506a839e",
              "IPY_MODEL_4a34286241d8499d82a85b32ab6bfbe6"
            ],
            "layout": "IPY_MODEL_911438c537f64e03b907fa5ad163c28d"
          }
        },
        "aa86d8bb5831492eb214f2e2bc0ece9a": {
          "model_module": "@jupyter-widgets/controls",
          "model_name": "HTMLModel",
          "model_module_version": "1.5.0",
          "state": {
            "_dom_classes": [],
            "_model_module": "@jupyter-widgets/controls",
            "_model_module_version": "1.5.0",
            "_model_name": "HTMLModel",
            "_view_count": null,
            "_view_module": "@jupyter-widgets/controls",
            "_view_module_version": "1.5.0",
            "_view_name": "HTMLView",
            "description": "",
            "description_tooltip": null,
            "layout": "IPY_MODEL_00e0661a08d74467b594fc031c9669d0",
            "placeholder": "​",
            "style": "IPY_MODEL_bb3cab9986eb4e80acf7ab2265b10689",
            "value": "Done! Use &#x27;show&#x27; commands to display/save.   "
          }
        },
        "c28be0f3c51e4036b6070208506a839e": {
          "model_module": "@jupyter-widgets/controls",
          "model_name": "FloatProgressModel",
          "model_module_version": "1.5.0",
          "state": {
            "_dom_classes": [],
            "_model_module": "@jupyter-widgets/controls",
            "_model_module_version": "1.5.0",
            "_model_name": "FloatProgressModel",
            "_view_count": null,
            "_view_module": "@jupyter-widgets/controls",
            "_view_module_version": "1.5.0",
            "_view_name": "ProgressView",
            "bar_style": "success",
            "description": "",
            "description_tooltip": null,
            "layout": "IPY_MODEL_bbd62e8e729e43eda9a23f1b6aba4456",
            "max": 1,
            "min": 0,
            "orientation": "horizontal",
            "style": "IPY_MODEL_3e3644acf75d47c8b4dc91a7291eb6db",
            "value": 1
          }
        },
        "4a34286241d8499d82a85b32ab6bfbe6": {
          "model_module": "@jupyter-widgets/controls",
          "model_name": "HTMLModel",
          "model_module_version": "1.5.0",
          "state": {
            "_dom_classes": [],
            "_model_module": "@jupyter-widgets/controls",
            "_model_module_version": "1.5.0",
            "_model_name": "HTMLModel",
            "_view_count": null,
            "_view_module": "@jupyter-widgets/controls",
            "_view_module_version": "1.5.0",
            "_view_name": "HTMLView",
            "description": "",
            "description_tooltip": null,
            "layout": "IPY_MODEL_8a332b3bfd7d41ce9ccd98ab924794cb",
            "placeholder": "​",
            "style": "IPY_MODEL_6f12874f61b94a5e8a3a612b652c7432",
            "value": " [100%]   00:05 -&gt; (00:00 left)"
          }
        },
        "911438c537f64e03b907fa5ad163c28d": {
          "model_module": "@jupyter-widgets/base",
          "model_name": "LayoutModel",
          "model_module_version": "1.2.0",
          "state": {
            "_model_module": "@jupyter-widgets/base",
            "_model_module_version": "1.2.0",
            "_model_name": "LayoutModel",
            "_view_count": null,
            "_view_module": "@jupyter-widgets/base",
            "_view_module_version": "1.2.0",
            "_view_name": "LayoutView",
            "align_content": null,
            "align_items": null,
            "align_self": null,
            "border": null,
            "bottom": null,
            "display": "inline-flex",
            "flex": null,
            "flex_flow": "row wrap",
            "grid_area": null,
            "grid_auto_columns": null,
            "grid_auto_flow": null,
            "grid_auto_rows": null,
            "grid_column": null,
            "grid_gap": null,
            "grid_row": null,
            "grid_template_areas": null,
            "grid_template_columns": null,
            "grid_template_rows": null,
            "height": null,
            "justify_content": null,
            "justify_items": null,
            "left": null,
            "margin": null,
            "max_height": null,
            "max_width": null,
            "min_height": null,
            "min_width": null,
            "object_fit": null,
            "object_position": null,
            "order": null,
            "overflow": null,
            "overflow_x": null,
            "overflow_y": null,
            "padding": null,
            "right": null,
            "top": null,
            "visibility": null,
            "width": "100%"
          }
        },
        "00e0661a08d74467b594fc031c9669d0": {
          "model_module": "@jupyter-widgets/base",
          "model_name": "LayoutModel",
          "model_module_version": "1.2.0",
          "state": {
            "_model_module": "@jupyter-widgets/base",
            "_model_module_version": "1.2.0",
            "_model_name": "LayoutModel",
            "_view_count": null,
            "_view_module": "@jupyter-widgets/base",
            "_view_module_version": "1.2.0",
            "_view_name": "LayoutView",
            "align_content": null,
            "align_items": null,
            "align_self": null,
            "border": null,
            "bottom": null,
            "display": null,
            "flex": null,
            "flex_flow": null,
            "grid_area": null,
            "grid_auto_columns": null,
            "grid_auto_flow": null,
            "grid_auto_rows": null,
            "grid_column": null,
            "grid_gap": null,
            "grid_row": null,
            "grid_template_areas": null,
            "grid_template_columns": null,
            "grid_template_rows": null,
            "height": null,
            "justify_content": null,
            "justify_items": null,
            "left": null,
            "margin": null,
            "max_height": null,
            "max_width": null,
            "min_height": null,
            "min_width": null,
            "object_fit": null,
            "object_position": null,
            "order": null,
            "overflow": null,
            "overflow_x": null,
            "overflow_y": null,
            "padding": null,
            "right": null,
            "top": null,
            "visibility": null,
            "width": null
          }
        },
        "bb3cab9986eb4e80acf7ab2265b10689": {
          "model_module": "@jupyter-widgets/controls",
          "model_name": "DescriptionStyleModel",
          "model_module_version": "1.5.0",
          "state": {
            "_model_module": "@jupyter-widgets/controls",
            "_model_module_version": "1.5.0",
            "_model_name": "DescriptionStyleModel",
            "_view_count": null,
            "_view_module": "@jupyter-widgets/base",
            "_view_module_version": "1.2.0",
            "_view_name": "StyleView",
            "description_width": ""
          }
        },
        "bbd62e8e729e43eda9a23f1b6aba4456": {
          "model_module": "@jupyter-widgets/base",
          "model_name": "LayoutModel",
          "model_module_version": "1.2.0",
          "state": {
            "_model_module": "@jupyter-widgets/base",
            "_model_module_version": "1.2.0",
            "_model_name": "LayoutModel",
            "_view_count": null,
            "_view_module": "@jupyter-widgets/base",
            "_view_module_version": "1.2.0",
            "_view_name": "LayoutView",
            "align_content": null,
            "align_items": null,
            "align_self": null,
            "border": null,
            "bottom": null,
            "display": null,
            "flex": "2",
            "flex_flow": null,
            "grid_area": null,
            "grid_auto_columns": null,
            "grid_auto_flow": null,
            "grid_auto_rows": null,
            "grid_column": null,
            "grid_gap": null,
            "grid_row": null,
            "grid_template_areas": null,
            "grid_template_columns": null,
            "grid_template_rows": null,
            "height": null,
            "justify_content": null,
            "justify_items": null,
            "left": null,
            "margin": null,
            "max_height": null,
            "max_width": null,
            "min_height": null,
            "min_width": null,
            "object_fit": null,
            "object_position": null,
            "order": null,
            "overflow": null,
            "overflow_x": null,
            "overflow_y": null,
            "padding": null,
            "right": null,
            "top": null,
            "visibility": null,
            "width": null
          }
        },
        "3e3644acf75d47c8b4dc91a7291eb6db": {
          "model_module": "@jupyter-widgets/controls",
          "model_name": "ProgressStyleModel",
          "model_module_version": "1.5.0",
          "state": {
            "_model_module": "@jupyter-widgets/controls",
            "_model_module_version": "1.5.0",
            "_model_name": "ProgressStyleModel",
            "_view_count": null,
            "_view_module": "@jupyter-widgets/base",
            "_view_module_version": "1.2.0",
            "_view_name": "StyleView",
            "bar_color": null,
            "description_width": ""
          }
        },
        "8a332b3bfd7d41ce9ccd98ab924794cb": {
          "model_module": "@jupyter-widgets/base",
          "model_name": "LayoutModel",
          "model_module_version": "1.2.0",
          "state": {
            "_model_module": "@jupyter-widgets/base",
            "_model_module_version": "1.2.0",
            "_model_name": "LayoutModel",
            "_view_count": null,
            "_view_module": "@jupyter-widgets/base",
            "_view_module_version": "1.2.0",
            "_view_name": "LayoutView",
            "align_content": null,
            "align_items": null,
            "align_self": null,
            "border": null,
            "bottom": null,
            "display": null,
            "flex": null,
            "flex_flow": null,
            "grid_area": null,
            "grid_auto_columns": null,
            "grid_auto_flow": null,
            "grid_auto_rows": null,
            "grid_column": null,
            "grid_gap": null,
            "grid_row": null,
            "grid_template_areas": null,
            "grid_template_columns": null,
            "grid_template_rows": null,
            "height": null,
            "justify_content": null,
            "justify_items": null,
            "left": null,
            "margin": null,
            "max_height": null,
            "max_width": null,
            "min_height": null,
            "min_width": null,
            "object_fit": null,
            "object_position": null,
            "order": null,
            "overflow": null,
            "overflow_x": null,
            "overflow_y": null,
            "padding": null,
            "right": null,
            "top": null,
            "visibility": null,
            "width": null
          }
        },
        "6f12874f61b94a5e8a3a612b652c7432": {
          "model_module": "@jupyter-widgets/controls",
          "model_name": "DescriptionStyleModel",
          "model_module_version": "1.5.0",
          "state": {
            "_model_module": "@jupyter-widgets/controls",
            "_model_module_version": "1.5.0",
            "_model_name": "DescriptionStyleModel",
            "_view_count": null,
            "_view_module": "@jupyter-widgets/base",
            "_view_module_version": "1.2.0",
            "_view_name": "StyleView",
            "description_width": ""
          }
        }
      }
    }
  },
  "cells": [
    {
      "cell_type": "markdown",
      "metadata": {
        "id": "view-in-github",
        "colab_type": "text"
      },
      "source": [
        "<a href=\"https://colab.research.google.com/github/david-j-cox/twitter-higher-ed/blob/main/sentiment_dabl_analyses.ipynb\" target=\"_parent\"><img src=\"https://colab.research.google.com/assets/colab-badge.svg\" alt=\"Open In Colab\"/></a>"
      ]
    },
    {
      "cell_type": "markdown",
      "metadata": {
        "id": "tQqFbRvHJxzx"
      },
      "source": [
        "# Packages and modules"
      ]
    },
    {
      "cell_type": "code",
      "metadata": {
        "id": "tAZ0a-DuTTYZ"
      },
      "source": [
        "import numpy as np\n",
        "from numpy import std, mean, sqrt\n",
        "import pandas as pd\n",
        "import seaborn as sns \n",
        "import matplotlib.pyplot as plt\n",
        "from scipy import stats\n",
        "from google.colab import files\n",
        "try:\n",
        "  import dabl\n",
        "except:\n",
        "  !pip install dabl\n",
        "  import dabl\n",
        "try:\n",
        "  from vaderSentiment.vaderSentiment import SentimentIntensityAnalyzer\n",
        "except:\n",
        "  !pip install vaderSentiment\n",
        "try:\n",
        "  import sweetviz as sv\n",
        "except:\n",
        "    !pip install sweetviz\n",
        "    import sweetviz as sv\n",
        "from sklearn.model_selection import train_test_split\n",
        "from google.colab import drive\n",
        "drive.mount('/content/gdrive')\n",
        "%cd './gdrive/My Drive/Twitter-Higher-Ed/'"
      ],
      "execution_count": 85,
      "outputs": []
    },
    {
      "cell_type": "markdown",
      "metadata": {
        "id": "63g_OloDj7ub"
      },
      "source": [
        "# Data read in, drop duplicates, and merging"
      ]
    },
    {
      "cell_type": "code",
      "metadata": {
        "colab": {
          "base_uri": "https://localhost:8080/"
        },
        "id": "nsWAMrAMUMZa",
        "outputId": "13a2ab9f-b0ef-4fac-909e-30ffc953f5ab"
      },
      "source": [
        "# Read in pre-COVID tweets, drop duplicates and save. \n",
        "raw_data_pre = pd.read_csv('./01_raw/pre_covid_learning.csv')\n",
        "raw_data_pre = raw_data_pre.drop_duplicates()\n",
        "raw_data_pre.to_csv('./01_raw/pre_covid_learning.csv')"
      ],
      "execution_count": null,
      "outputs": [
        {
          "output_type": "stream",
          "name": "stderr",
          "text": [
            "/usr/local/lib/python3.7/dist-packages/IPython/core/interactiveshell.py:2718: DtypeWarning: Columns (1,9,10,11,12,13,23,29) have mixed types.Specify dtype option on import or set low_memory=False.\n",
            "  interactivity=interactivity, compiler=compiler, result=result)\n"
          ]
        }
      ]
    },
    {
      "cell_type": "code",
      "metadata": {
        "id": "4CsB8KxycdZw"
      },
      "source": [
        "# Keep only the columns with information related to COVID or higher-education\n",
        "cov_list = ['covid', 'covid-19', 'covid19', 'coronavirus', 'corona virus'] \n",
        "hied_list = ['college', 'university', 'professor', 'teacher', 'higher ed', 'higher education']"
      ],
      "execution_count": null,
      "outputs": []
    },
    {
      "cell_type": "code",
      "metadata": {
        "id": "Bv5K4HTecysK"
      },
      "source": [
        "# Convert all the text to lowercase for string matching\n",
        "raw_data_pre['content'] = raw_data_pre['content'].str.lower()"
      ],
      "execution_count": null,
      "outputs": []
    },
    {
      "cell_type": "code",
      "metadata": {
        "id": "sAoKXL8yb472"
      },
      "source": [
        "# Create a list of the indices containing Tweets with COVID or higher-education\n",
        "int_keep_pre = []\n",
        "\n",
        "for i in range(len(raw_data_pre)):\n",
        "  val = str(raw_data_pre['content'][i])\n",
        "  for j in hied_list:\n",
        "    if j in val:\n",
        "      if i in int_keep_pre:\n",
        "        continue\n",
        "      else:\n",
        "        int_keep_pre.append(i)\n",
        "\n",
        "int_keep_pre = pd.DataFrame(int_keep_pre)\n",
        "int_keep_pre.columns = ['index']\n",
        "int_keep_pre.to_csv('./02_intermediate/ints_pre.csv')\n",
        "print(\"raw total:\", len(raw_data_pre))\n",
        "\n",
        "# Use the list of the indices to trim the raw df\n",
        "df_pre = raw_data_pre.iloc[int_keep_pre['index']]\n",
        "print(\"subset total: \", len(df_pre))\n",
        "df_pre = df_pre.reset_index(drop=True)\n",
        "df_pre.to_csv('./02_intermediate/clean_pre.csv')"
      ],
      "execution_count": null,
      "outputs": []
    },
    {
      "cell_type": "code",
      "metadata": {
        "colab": {
          "base_uri": "https://localhost:8080/"
        },
        "id": "FyKo5AFQu18T",
        "outputId": "8d0ace44-9af8-409d-bc11-eeb2af0904af"
      },
      "source": [
        "# Read in post-COVID tweets, drop duplicates and save\n",
        "raw_data_post = pd.read_csv('./01_raw/post_covid_learning.csv')\n",
        "print(\"Pre: \", len(raw_data_post))\n",
        "raw_data_post = raw_data_post.drop_duplicates()\n",
        "print(\"Post: \", len(raw_data_post))\n",
        "raw_data_post.to_csv('./01_raw/post_covid_learning.csv')"
      ],
      "execution_count": null,
      "outputs": [
        {
          "output_type": "stream",
          "name": "stderr",
          "text": [
            "/usr/local/lib/python3.7/dist-packages/IPython/core/interactiveshell.py:2718: DtypeWarning: Columns (1,9,10,11,12,13,23,29) have mixed types.Specify dtype option on import or set low_memory=False.\n",
            "  interactivity=interactivity, compiler=compiler, result=result)\n"
          ]
        }
      ]
    },
    {
      "cell_type": "code",
      "metadata": {
        "id": "9z-9Gar7SpZx"
      },
      "source": [
        "# Convert all the text to lowercase for string matching\n",
        "raw_data_post['content'] = raw_data_post['content'].str.lower()"
      ],
      "execution_count": null,
      "outputs": []
    },
    {
      "cell_type": "code",
      "metadata": {
        "id": "5VCG5vLDcJ2l",
        "colab": {
          "base_uri": "https://localhost:8080/"
        },
        "outputId": "2d752db5-b589-4002-96fb-920c56c66817"
      },
      "source": [
        "# Create a list of the indices containing Tweets with COVID or higher-education\n",
        "int_keep_post = []\n",
        "\n",
        "for i in range(len(raw_data_post)):\n",
        "  val = str(raw_data_post['content'][i])\n",
        "  for j in hied_list:\n",
        "    for k in cov_list:\n",
        "      if j in val:\n",
        "        if i in int_keep_post:\n",
        "          continue\n",
        "        else:\n",
        "          int_keep_post.append(i)\n",
        "      if k in val:\n",
        "        if i in int_keep_post:\n",
        "          continue\n",
        "        else:\n",
        "          int_keep_post.append(i)\n",
        "\n",
        "int_keep_post = pd.DataFrame(int_keep_post)\n",
        "int_keep_post.columns = ['index']\n",
        "int_keep_post.to_csv('./02_intermediate/ints_post.csv')\n",
        "print(\"raw total:\", len(raw_data_post))\n",
        "\n",
        "# Use the list of the indices to trim the raw df\n",
        "df_post = raw_data_post.iloc[int_keep_post['index']]\n",
        "print(\"subset total: \", len(df_post))\n",
        "df_post = df_post.reset_index(drop=True)\n",
        "df_post.to_csv('./02_intermediate/clean_post.csv')"
      ],
      "execution_count": null,
      "outputs": [
        {
          "output_type": "stream",
          "name": "stdout",
          "text": [
            "raw total: 2034546\n",
            "subset total:  71547\n"
          ]
        }
      ]
    },
    {
      "cell_type": "code",
      "metadata": {
        "id": "ssNYuHYEu4ev"
      },
      "source": [
        "# Combine the pre and post dfs into a single dataframe\n",
        "all_data = df_pre.append(df_post)\n",
        "all_data = all_data.drop(['Unnamed: 0', 'Unnamed: 0.1'], axis=1)\n",
        "all_data = all_data.reset_index(drop=True)\n",
        "all_data.to_csv('./02_intermediate/all_data.csv')"
      ],
      "execution_count": 32,
      "outputs": []
    },
    {
      "cell_type": "markdown",
      "metadata": {
        "id": "gBKolIo3XGaU"
      },
      "source": [
        "# Sentiment Analysis using Vader model"
      ]
    },
    {
      "cell_type": "code",
      "metadata": {
        "id": "UiX6gGFiXJI0"
      },
      "source": [
        "# Add sentiment scores from Vader Model\n",
        "san = SentimentIntensityAnalyzer()\n",
        "pos = []\n",
        "neu = []\n",
        "neg = []\n",
        "compound = []\n",
        "\n",
        "for i in range(len(all_data)):\n",
        "  sent_dict = san.polarity_scores(all_data['content'][i])\n",
        "  pos.append(sent_dict.get('pos'))\n",
        "  neu.append(sent_dict.get('neu'))\n",
        "  neg.append(sent_dict.get('neg'))\n",
        "  compound.append(sent_dict.get('compound'))\n",
        "\n",
        "all_data['vader_pos'] = pos\n",
        "all_data['vader_neu'] = neu\n",
        "all_data['vader_neg'] = neg\n",
        "all_data['vader_com'] = compound"
      ],
      "execution_count": 33,
      "outputs": []
    },
    {
      "cell_type": "code",
      "metadata": {
        "colab": {
          "base_uri": "https://localhost:8080/",
          "height": 606
        },
        "id": "0X10-MUSXJ6S",
        "outputId": "ffe371d8-3d5b-460d-9985-b62ec5c31e30"
      },
      "source": [
        "# Quick plots of Vader sentiment before and after\n",
        "fig, axs = plt.subplots(2, 2, figsize=(10, 10))\n",
        "sns.violinplot(x=all_data['year'], y=all_data['vader_pos'], ax=axs[0, 0], palette=\"BrBG\")\n",
        "sns.violinplot(x=all_data['year'], y=all_data['vader_neu'], ax=axs[0, 1], palette=\"BrBG\")\n",
        "sns.violinplot(x=all_data['year'], y=all_data['vader_neg'], ax=axs[1, 0], palette=\"BrBG\")\n",
        "sns.violinplot(x=all_data['year'], y=all_data['vader_com'], ax=axs[1, 1], palette=\"BrBG\")\n",
        "plt.savefig(fname='./figures/violin_vader.png', bbox_inches='tight')\n",
        "plt.show()"
      ],
      "execution_count": 94,
      "outputs": [
        {
          "output_type": "display_data",
          "data": {
            "image/png": "[encoded data removed]",
            "text/plain": [
              "<Figure size 720x720 with 4 Axes>"
            ]
          },
          "metadata": {
            "needs_background": "light"
          }
        }
      ]
    },
    {
      "cell_type": "code",
      "metadata": {
        "id": "EFDYTxf1emG4"
      },
      "source": [
        "# Descriptions of sentiment by year\n",
        "vader_desc = pd.DataFrame(all_data['vader_pos'][all_data['year']==2020].describe())\n",
        "vader_desc.columns = ['pos_2020']\n",
        "\n",
        "vader_desc['pos_2021'] = all_data['vader_pos'][all_data['year']==2021].describe()\n",
        "\n",
        "for i in ['vader_neu', 'vader_neg', 'vader_com']:\n",
        "  for year in [2020, 2021]:\n",
        "    name = i[-3:]+\"_\"+str(year)\n",
        "    vader_desc[name] = all_data[i][all_data['year']==year].describe()\n",
        "\n",
        "vader_desc.to_csv('./03_primary/vader_descriptions.csv')"
      ],
      "execution_count": 79,
      "outputs": []
    },
    {
      "cell_type": "code",
      "metadata": {
        "colab": {
          "base_uri": "https://localhost:8080/",
          "height": 173
        },
        "id": "Jehp4-jMXKAy",
        "outputId": "3004d115-13ec-40c9-cce5-2a62ba51b77c"
      },
      "source": [
        "# Statistics on the differences\n",
        "comparison = []\n",
        "stat = []\n",
        "p_val = []\n",
        "coh_d = []\n",
        "\n",
        "for i in ['vader_pos', 'vader_neu', 'vader_neg', 'vader_com']:\n",
        "  comparison.append(i)\n",
        "  ttest = stats.ttest_ind(all_data[i][all_data['year']==2020], all_data[i][all_data['year']==2021])\n",
        "  stat.append(ttest[0])\n",
        "  p_val.append(ttest[1])\n",
        "  c0 = all_data[i][all_data['year']==2020]\n",
        "  c1 = all_data[i][all_data['year']==2021]\n",
        "  coh_d.append((mean(c0) - mean(c1)) / (sqrt((std(c0) ** 2 + std(c1) ** 2) / 2)))\n",
        "\n",
        "vader_stats = pd.DataFrame([comparison, stat, p_val, coh_d])\n",
        "vader_stats = vader_stats.transpose()\n",
        "vader_stats.columns = ['comparison', 't_stat', 'p_val', 'cohens_d']\n",
        "vader_stats.to_csv('./03_primary/vader_stats.csv')\n",
        "vader_stats"
      ],
      "execution_count": 93,
      "outputs": [
        {
          "output_type": "execute_result",
          "data": {
            "text/html": [
              "<div>\n",
              "<style scoped>\n",
              "    .dataframe tbody tr th:only-of-type {\n",
              "        vertical-align: middle;\n",
              "    }\n",
              "\n",
              "    .dataframe tbody tr th {\n",
              "        vertical-align: top;\n",
              "    }\n",
              "\n",
              "    .dataframe thead th {\n",
              "        text-align: right;\n",
              "    }\n",
              "</style>\n",
              "<table border=\"1\" class=\"dataframe\">\n",
              "  <thead>\n",
              "    <tr style=\"text-align: right;\">\n",
              "      <th></th>\n",
              "      <th>comparison</th>\n",
              "      <th>t_stat</th>\n",
              "      <th>p_val</th>\n",
              "      <th>cohens_d</th>\n",
              "    </tr>\n",
              "  </thead>\n",
              "  <tbody>\n",
              "    <tr>\n",
              "      <th>0</th>\n",
              "      <td>vader_pos</td>\n",
              "      <td>19.0754</td>\n",
              "      <td>5.00964e-81</td>\n",
              "      <td>0.0974308</td>\n",
              "    </tr>\n",
              "    <tr>\n",
              "      <th>1</th>\n",
              "      <td>vader_neu</td>\n",
              "      <td>-11.6854</td>\n",
              "      <td>1.55977e-31</td>\n",
              "      <td>-0.0595801</td>\n",
              "    </tr>\n",
              "    <tr>\n",
              "      <th>2</th>\n",
              "      <td>vader_neg</td>\n",
              "      <td>-7.94168</td>\n",
              "      <td>2.00779e-15</td>\n",
              "      <td>-0.0404353</td>\n",
              "    </tr>\n",
              "    <tr>\n",
              "      <th>3</th>\n",
              "      <td>vader_com</td>\n",
              "      <td>18.4844</td>\n",
              "      <td>3.32995e-76</td>\n",
              "      <td>0.0941099</td>\n",
              "    </tr>\n",
              "  </tbody>\n",
              "</table>\n",
              "</div>"
            ],
            "text/plain": [
              "  comparison   t_stat        p_val   cohens_d\n",
              "0  vader_pos  19.0754  5.00964e-81  0.0974308\n",
              "1  vader_neu -11.6854  1.55977e-31 -0.0595801\n",
              "2  vader_neg -7.94168  2.00779e-15 -0.0404353\n",
              "3  vader_com  18.4844  3.32995e-76  0.0941099"
            ]
          },
          "metadata": {},
          "execution_count": 93
        }
      ]
    },
    {
      "cell_type": "code",
      "metadata": {
        "id": "zZsF12T3XKGL"
      },
      "source": [
        ""
      ],
      "execution_count": null,
      "outputs": []
    },
    {
      "cell_type": "markdown",
      "metadata": {
        "id": "r_u5_hVIKC6o"
      },
      "source": [
        "## Playing with dabl"
      ]
    },
    {
      "cell_type": "code",
      "metadata": {
        "colab": {
          "base_uri": "https://localhost:8080/"
        },
        "id": "E8so8oAG1b9Y",
        "outputId": "bb17aaf0-c668-4ded-c086-342e009373d3"
      },
      "source": [
        "dabl_df = dabl.clean(all_data, verbose=1)"
      ],
      "execution_count": null,
      "outputs": [
        {
          "name": "stdout",
          "output_type": "stream",
          "text": [
            "Detected feature types:\n",
            "continuous      10\n",
            "dirty_float      5\n",
            "low_card_int     0\n",
            "categorical      7\n",
            "date             0\n",
            "free_string     13\n",
            "useless          4\n",
            "dtype: int64\n"
          ]
        }
      ]
    },
    {
      "cell_type": "markdown",
      "metadata": {
        "id": "FehlWn5OKFlQ"
      },
      "source": [
        "## Clean-up some features"
      ]
    },
    {
      "cell_type": "code",
      "metadata": {
        "id": "hrUQ3uCBJMu_"
      },
      "source": [
        "df_clean = df_clean.drop(['Unnamed: 0.1_ @PMOIndia @AmitShah @drharshvardhan @IMAIndiaOrg @ANI',\\\n",
        "                         'Unnamed: 0.1_#MedTwitter #MedStudentTwitter #MedEd #AcademicChatter #AcademicTwitter',\\\n",
        "                         'Unnamed: 0.1_#MedTwitter #PeruvianPhysiciansCrew',\\\n",
        "                         'Unnamed: 0.1_#SelfDefenceIsLegal',\n",
        "                         'Unnamed: 0.1_#たてたてよこよこ横山結衣 #ディズニーランド #Disney #初調査員 #あべこうじ #横山結衣 #中村かさね #藤原祐輝 #木邨将太 #服部未佳 #土曜日 #９時３５分 #青森 #夢はここから #生放送 #ハッピィ #土曜日 #9時35分 #ABA #青森朝日放送 #aomori https://t.co/On0xqhbqoX',\n",
        "                         'Unnamed: 0.1_1-70 dias', 'Unnamed: 0.1_1-dos meses ',\n",
        "                         'Unnamed: 0.1_1-tres meses ', 'Unnamed: 0.1_2-Maracay Estado Aragua ',\n",
        "                         'Unnamed: 0.1_3- #ABA cantv reporte No 19650849',\n",
        "                         'Unnamed: 0.1_3- #ABA cantv reporte No 19650849 l',\n",
        "                         \"Unnamed: 0.1_D govt they're waiting on for help is actually d one killing them\",\n",
        "                         'Unnamed: 0.1_cortados durante la Cuarentena. Nos engañan o que?',\n",
        "                         'Unnamed: 0.1_por falta de pago. Y no hay manera de pagarlo xqse debe pagar en Zoom y ellos no estan trabajando. ES UN ABUSO DE CANTV',\n",
        "                         'Unnamed: 0.1_dabl_continuous'], axis=1)\n",
        "\n",
        "# Save it\n",
        "df_clean.to_csv('aba_twitter_sentiment_dabl_clean.csv')"
      ],
      "execution_count": null,
      "outputs": []
    },
    {
      "cell_type": "code",
      "metadata": {
        "colab": {
          "base_uri": "https://localhost:8080/"
        },
        "id": "NFjWasMHBEgo",
        "outputId": "2c0ca5a2-c3f6-467b-c9b0-b912749213bb"
      },
      "source": [
        "# If picking up fresh\n",
        "raw_data = pd.read_csv('aba_twitter_sentiment_dabl_clean.csv')\n",
        "df_clean = raw_data.copy()"
      ],
      "execution_count": null,
      "outputs": [
        {
          "name": "stderr",
          "output_type": "stream",
          "text": [
            "/usr/local/lib/python3.7/dist-packages/IPython/core/interactiveshell.py:2718: DtypeWarning: Columns (1,2,3,4,6,8,9,10,11,12,13,14,15,16,17,18,19,20,21,22) have mixed types.Specify dtype option on import or set low_memory=False.\n",
            "  interactivity=interactivity, compiler=compiler, result=result)\n"
          ]
        }
      ]
    },
    {
      "cell_type": "code",
      "metadata": {
        "id": "4ZyFKZnWBKZL"
      },
      "source": [
        "df_clean = df_clean.drop(['Unnamed: 0'], axis=1)"
      ],
      "execution_count": null,
      "outputs": []
    },
    {
      "cell_type": "markdown",
      "metadata": {
        "id": "gCbFY5UpKMVS"
      },
      "source": [
        "## Quick plots"
      ]
    },
    {
      "cell_type": "code",
      "metadata": {
        "id": "lu_eL4QsJOn9"
      },
      "source": [
        "# All data\n",
        "dabl.plot(df_clean, target_col='compound')"
      ],
      "execution_count": null,
      "outputs": []
    },
    {
      "cell_type": "code",
      "metadata": {
        "id": "Ux0xp-6hMmAj"
      },
      "source": [
        "# Isolate bx Twitter\n",
        "df_bx = df_clean[df_clean['focus']!= 'medtwitter']"
      ],
      "execution_count": null,
      "outputs": []
    },
    {
      "cell_type": "code",
      "metadata": {
        "id": "cC8mrfksKRep"
      },
      "source": [
        "# Bx twitter only\n",
        "dabl.plot(df_bx, target_col='compound')"
      ],
      "execution_count": null,
      "outputs": []
    },
    {
      "cell_type": "code",
      "metadata": {
        "id": "xwxu_sE-KTho"
      },
      "source": [
        "# Medtwitter\n",
        "df_med = df_clean[df_clean['focus']== 'medtwitter']"
      ],
      "execution_count": null,
      "outputs": []
    },
    {
      "cell_type": "code",
      "metadata": {
        "id": "duYxhvOLvu2y"
      },
      "source": [
        "df_med = df_med.drop(['_type', 'url','id', 'user', 'conversationId','source',\n",
        "                      'sourceUrl', 'sourceLabel', 'outlinks', 'tcooutlinks',\n",
        "                      'media', 'retweetedTweet', 'quotedTweet', 'inReplyToTweetId',\n",
        "                      'inReplyToUser', 'hashtags', 'cashtags'], axis=1)"
      ],
      "execution_count": null,
      "outputs": []
    },
    {
      "cell_type": "code",
      "metadata": {
        "id": "Jclx2eizxdlo"
      },
      "source": [
        "for i in list(df_med):\n",
        "  print(i, df_med[i].unique(), \"\\n\")"
      ],
      "execution_count": null,
      "outputs": []
    },
    {
      "cell_type": "code",
      "metadata": {
        "id": "m2NXuiXjzMuA"
      },
      "source": [
        "# Cleanup some of the count features\n",
        "int_list = ['replyCount', 'retweetCount', 'likeCount', 'quoteCount']\n",
        "\n",
        "for i in int_list:\n",
        "  df_med[i] = df_med[i].astype(float)"
      ],
      "execution_count": null,
      "outputs": []
    },
    {
      "cell_type": "code",
      "metadata": {
        "id": "6tLt7YJKMiNo"
      },
      "source": [
        "# Plot it\n",
        "dabl.plot(df_med, target_col='compound')"
      ],
      "execution_count": null,
      "outputs": []
    },
    {
      "cell_type": "code",
      "metadata": {
        "id": "5SffmfFI0Abw"
      },
      "source": [
        "plt.scatter(x=df_med['likeCount'], y=df_med['compound'], s=7, alpha=0.05)\n",
        "plt.xlim(-10, 275)\n",
        "plt.yticks(ticks=[-1, -0.5, 0, 0.5, 1])"
      ],
      "execution_count": null,
      "outputs": []
    },
    {
      "cell_type": "markdown",
      "metadata": {
        "id": "KwpCZnGU1ZOd"
      },
      "source": [
        "## Tweets with and without emoji conversion to text"
      ]
    },
    {
      "cell_type": "code",
      "metadata": {
        "id": "6AgElEYT1Ra_"
      },
      "source": [
        "df_trimmed = df_clean[['pos', 'neu', 'neg', 'compound', \n",
        "                      'pos_e', 'neu_e', 'neg_e', 'compound_e']]\n",
        "df_trimmed = df_trimmed.reset_index(drop=True)"
      ],
      "execution_count": null,
      "outputs": []
    },
    {
      "cell_type": "code",
      "metadata": {
        "id": "E95gcSns3Cmy"
      },
      "source": [
        "keep = []\n",
        "\n",
        "for i in range(len(df_trimmed)):\n",
        "  if df_trimmed['pos'][i] - df_trimmed['pos_e'][i]==0:\n",
        "    if df_trimmed['neu'][i] - df_trimmed['neu_e'][i]==0:\n",
        "      if df_trimmed['neg'][i] - df_trimmed['neg_e'][i]==0:\n",
        "        if df_trimmed['compound'][i] - df_trimmed['compound_e'][i]==0:\n",
        "          keep.append('no')\n",
        "        else:\n",
        "          keep.append(\"yes\")\n",
        "      else:\n",
        "          keep.append(\"yes\")\n",
        "    else:\n",
        "          keep.append(\"yes\")\n",
        "  else:\n",
        "    keep.append(\"yes\")\n",
        "\n",
        "df_trimmed['keep'] = keep"
      ],
      "execution_count": null,
      "outputs": []
    },
    {
      "cell_type": "code",
      "metadata": {
        "id": "qsTzmIgs3m3b"
      },
      "source": [
        "df_trimmed = df_trimmed[df_trimmed['keep']=='yes']\n",
        "df_trimmed = df_trimmed.drop(['keep'], axis=1)\n",
        "df_trimmed = df_trimmed.reset_index(drop=True)"
      ],
      "execution_count": null,
      "outputs": []
    },
    {
      "cell_type": "code",
      "metadata": {
        "colab": {
          "base_uri": "https://localhost:8080/"
        },
        "id": "8zlHtU9K5lAq",
        "outputId": "18388268-4c6c-4d49-8c24-e6a0f59428e9"
      },
      "source": [
        "len(df_trimmed)"
      ],
      "execution_count": null,
      "outputs": [
        {
          "data": {
            "text/plain": [
              "91638"
            ]
          },
          "execution_count": 57,
          "metadata": {
            "tags": []
          },
          "output_type": "execute_result"
        }
      ]
    },
    {
      "cell_type": "code",
      "metadata": {
        "id": "s3kzg3pL8y__"
      },
      "source": [
        "# Functions we need\n",
        "# Functions\n",
        "def corrdot(*args, **kwargs):\n",
        "    corr_r = args[0].corr(args[1], 'pearson')\n",
        "    corr_text = f\"{corr_r:2.2f}\".replace(\"0.\", \".\")\n",
        "    ax = plt.gca()\n",
        "    ax.set_axis_off()\n",
        "    marker_size = abs(corr_r) * 10000\n",
        "    ax.scatter([.5], [.5], marker_size, [corr_r], alpha=0.6, cmap=\"coolwarm\", \\\n",
        "               vmin=-1, vmax=1, transform=ax.transAxes)\n",
        "    font_size = abs(corr_r) * 40 + 5\n",
        "    ax.annotate(corr_text, [.5, .5,],  xycoords=\"axes fraction\", ha='center', \\\n",
        "                va='center', fontsize=font_size)\n",
        "\n",
        "def annotate_colname(x, **kws):\n",
        "    ax = plt.gca()\n",
        "    ax.annotate(x.name, xy=(0.05, 0.9), xycoords=ax.transAxes, fontweight='bold')\n",
        "\n",
        "def reg_plot(df,y,x,title=None,x_label=None,y_label=None,save_name=None, y_max=None, y_min=None):\n",
        "    fig, ax = plt.subplots(figsize=(5,5))\n",
        "    ax = sns.regplot(x=x, \n",
        "                     y=y, \n",
        "                     data=df, \n",
        "                     color='k')\n",
        "    sns.despine(fig=None, ax=None, top=True, right=True, left=False, bottom=False, offset=True, trim=False)\n",
        "    ax.spines['bottom'].set_color('black')\n",
        "    ax.spines['left'].set_color('black')\n",
        "    ax.set_ylabel(f'{y_label}', fontsize=20)\n",
        "    ax.set_xlabel(f'{x_label}',fontsize=20)\n",
        "    ax.set_ylim([y_min,y_max])\n",
        "    # plt.suptitle(f'{title}')\n",
        "    # plt.tight_layout()\n",
        "    plt.savefig(save_name, bbox_inches='tight')\n",
        "    plt.show()"
      ],
      "execution_count": null,
      "outputs": []
    },
    {
      "cell_type": "code",
      "metadata": {
        "id": "KJ1IQ1tk1mns"
      },
      "source": [
        "# Crazy plots\n",
        "import warnings\n",
        "warnings.filterwarnings('ignore')\n",
        "sns.set(style='white', font_scale=1.6)\n",
        "g = sns.PairGrid(df_trimmed, aspect=1.4, diag_sharey=False)\n",
        "g.map_lower(sns.regplot, scatter_kws={'s':10})\n",
        "g.map_diag(sns.distplot, kde_kws={'color': 'black'})\n",
        "g.map_diag(annotate_colname)\n",
        "g.map_upper(corrdot) \n",
        "plt.show()"
      ],
      "execution_count": null,
      "outputs": []
    },
    {
      "cell_type": "markdown",
      "metadata": {
        "id": "Te7HEOg5KXZI"
      },
      "source": [
        "## Sweetviz for comparisons"
      ]
    },
    {
      "cell_type": "code",
      "metadata": {
        "id": "80kAqz27NL-K"
      },
      "source": [
        "df_bx['inReplyToTweetId'] = df_bx['inReplyToTweetId'].replace(\"['ABA']\", np.nan)\n",
        "df_bx['inReplyToTweetId'] = df_bx['inReplyToTweetId'].replace(\"['たてたてよこよこ横山結衣', 'ディズニーランド', 'Disney', '初調査員', 'あべこうじ', '横山結衣', '中村かさね', '藤原祐輝', '木邨将太', '服部未佳', '土曜日', '９時３５分', '青森', '夢はここから', '生放送', 'ハッピィ', '土曜日', '9時35分', 'ABA', '青森朝日放送', 'aomori']\", np.nan)\n",
        "df_bx['inReplyToTweetId'] = df_bx['inReplyToTweetId'].replace(\"['RT', 'ABA']\", np.nan)\n",
        "df_bx['inReplyToTweetId'] = df_bx['inReplyToTweetId'].replace(\"['Aba', 'SelfDefenceIsLegal']\", np.nan)\n",
        "df_bx['inReplyToTweetId'] = df_bx['inReplyToTweetId'].replace(\"['LatinosInMedicine', 'LatinxInMedicine', 'MedTwitter', 'PeruvianPhysiciansCrew']\", np.nan)\n",
        "df_bx['inReplyToTweetId'] = df_bx['inReplyToTweetId'].replace(\"['MedTwitter', 'MedStudentTwitter', 'MedEd', 'AcademicChatter', 'AcademicTwitter']\", np.nan)\n",
        "df_bx['inReplyToTweetId'] = df_bx['inReplyToTweetId'].replace(\"['StopViolenceAgainstDoctors', 'Medtwitter', 'iStandWithDoctors', 'NoToViolenceOnDoctors']\", np.nan)\n",
        "df_bx['inReplyToTweetId'] = df_bx['inReplyToTweetId'].astype(float)"
      ],
      "execution_count": null,
      "outputs": []
    },
    {
      "cell_type": "code",
      "metadata": {
        "colab": {
          "base_uri": "https://localhost:8080/",
          "height": 66,
          "referenced_widgets": [
            "80f2f70b388d4d66a1385cb0e0bb84c5",
            "aa86d8bb5831492eb214f2e2bc0ece9a",
            "c28be0f3c51e4036b6070208506a839e",
            "4a34286241d8499d82a85b32ab6bfbe6",
            "911438c537f64e03b907fa5ad163c28d",
            "00e0661a08d74467b594fc031c9669d0",
            "bb3cab9986eb4e80acf7ab2265b10689",
            "bbd62e8e729e43eda9a23f1b6aba4456",
            "3e3644acf75d47c8b4dc91a7291eb6db",
            "8a332b3bfd7d41ce9ccd98ab924794cb",
            "6f12874f61b94a5e8a3a612b652c7432"
          ]
        },
        "id": "f8jFeb-uJS25",
        "outputId": "379c0027-58e8-4ed9-e2cf-b252e987e107"
      },
      "source": [
        "# Bx twitter vs. medtwitter\n",
        "compare_report = sv.compare([df_bx, \"Behavior Twitter\"], [df_med, \"Med Twitter\"])\n",
        "compare_report.show_html()"
      ],
      "execution_count": null,
      "outputs": [
        {
          "data": {
            "application/vnd.jupyter.widget-view+json": {
              "model_id": "80f2f70b388d4d66a1385cb0e0bb84c5",
              "version_major": 2,
              "version_minor": 0
            },
            "text/plain": [
              "                                             |          | [  0%]   00:00 -> (? left)"
            ]
          },
          "metadata": {
            "tags": []
          },
          "output_type": "display_data"
        },
        {
          "name": "stdout",
          "output_type": "stream",
          "text": [
            "Report SWEETVIZ_REPORT.html was generated! NOTEBOOK/COLAB USERS: the web browser MAY not pop up, regardless, the report IS saved in your notebook/colab files.\n"
          ]
        }
      ]
    },
    {
      "cell_type": "markdown",
      "metadata": {
        "id": "xNjl4HBPXvBg"
      },
      "source": [
        "## Change in sentiment over time"
      ]
    },
    {
      "cell_type": "code",
      "metadata": {
        "id": "rmLYF87QUmjx"
      },
      "source": [
        "# Make sure all datetimes are as they need to be\n",
        "df_bx = df_bx.reset_index(drop=True)\n",
        "new_date = []\n",
        "for i in range(len(df_bx)):\n",
        "  date = df_bx['date'][i]\n",
        "  try:\n",
        "    val = pd.to_datetime(date)\n",
        "    new_date.append(val)\n",
        "  except:\n",
        "    print(date)\n",
        "    new_val = input()\n",
        "    new_val = pd.to_datetime(new_val)\n",
        "    new_date.append(new_val)\n",
        "\n",
        "df_bx['date'] = new_date"
      ],
      "execution_count": null,
      "outputs": []
    },
    {
      "cell_type": "code",
      "metadata": {
        "id": "J48VijSmaYv_"
      },
      "source": [
        "# Sort dfs by date for plotting\n",
        "# behavior analysis\n",
        "df_bx = df_bx.sort_values(by=['date'])\n",
        "df_bx = df_bx.dropna(subset=['date'])\n",
        "df_bx = df_bx.reset_index(drop=True)\n",
        "\n",
        "# med\n",
        "df_med = df_med.sort_values(by=['date'])\n",
        "df_med = df_med.dropna(subset=['date'])\n",
        "df_med = df_med.reset_index(drop=True)"
      ],
      "execution_count": null,
      "outputs": []
    },
    {
      "cell_type": "code",
      "metadata": {
        "id": "rETs2NOdd1-_"
      },
      "source": [
        "# Plot them\n",
        "plt.figure(figsize=(20,10))\n",
        "plt.scatter(x=df_bx['date'], y=df_bx['compound'], color='blue', alpha=0.05)\n",
        "plt.scatter(x=df_med['date'], y=df_med['compound'], color='red', alpha=0.007)\n",
        "plt.show()"
      ],
      "execution_count": null,
      "outputs": []
    },
    {
      "cell_type": "code",
      "metadata": {
        "id": "kpgCVeBzij75"
      },
      "source": [
        "# Aggregate by month and year\n",
        "def aggregate(df):\n",
        "  df['date'] = pd.to_datetime(df['date'], errors='coerce')\n",
        "  df['year'] = pd.DatetimeIndex(df['date']).year\n",
        "  df['month'] = pd.DatetimeIndex(df['date']).month\n",
        "  testing = df.groupby(by=['year', 'month']).mean()\n",
        "  testing = testing.reset_index()\n",
        "  testing['year'] = testing['year'].astype(str)\n",
        "  testing['month'] = testing['month'].astype(str)\n",
        "  testing['year_month'] = testing['year'] + \"-\" + testing['month']\n",
        "  return testing\n",
        "\n",
        "agg_bx = aggregate(df_bx)\n",
        "agg_med = aggregate(df_med)"
      ],
      "execution_count": null,
      "outputs": []
    },
    {
      "cell_type": "code",
      "metadata": {
        "id": "xlAAoAHQySmP"
      },
      "source": [
        "agg_bx = agg_bx.drop(0).reset_index(drop=True)"
      ],
      "execution_count": null,
      "outputs": []
    },
    {
      "cell_type": "code",
      "metadata": {
        "id": "Zm5PlOLNmTfV"
      },
      "source": [
        "# Plot them\n",
        "fig, ax = plt.subplots(figsize=(20, 10))\n",
        "sns.scatterplot(x=agg_bx['year_month'], y=agg_bx['compound'], color='blue', s=50, alpha=0.5)\n",
        "sns.scatterplot(x=agg_med['year_month'], y=agg_med['compound'], color='red', s=50, alpha=0.5)\n",
        "sns.despine(fig=None, ax=None, top=True, right=True, left=False, bottom=False, offset=True, trim=False)\n",
        "ax.spines['bottom'].set_color('black')\n",
        "ax.spines['left'].set_color('black')\n",
        "plt.ylim(0, 0.3)\n",
        "plt.yticks(fontsize=20)\n",
        "plt.ylabel('Sentiment Score', fontsize=26, labelpad=30)\n",
        "plt.xlabel('Date', fontsize=26, labelpad=30)\n",
        "plt.xticks(rotation=90, fontsize=16)\n",
        "plt.show()"
      ],
      "execution_count": null,
      "outputs": []
    },
    {
      "cell_type": "code",
      "metadata": {
        "id": "o_Ts0nSbkplI"
      },
      "source": [
        "df_bx[]"
      ],
      "execution_count": null,
      "outputs": []
    },
    {
      "cell_type": "code",
      "metadata": {
        "id": "aEE38cP-lqiC"
      },
      "source": [
        ""
      ],
      "execution_count": null,
      "outputs": []
    }
  ]
}